{
  "nbformat": 4,
  "nbformat_minor": 0,
  "metadata": {
    "colab": {
      "provenance": []
    },
    "kernelspec": {
      "name": "python3",
      "display_name": "Python 3"
    },
    "language_info": {
      "name": "python"
    }
  },
  "cells": [
    {
      "cell_type": "markdown",
      "source": [
        "# ✅ Step-by-Step Plan\n",
        "# 📍 Step 1: Understand and Prepare the Data\n",
        "# Load the 2000+ binary sequences (each row = 1 sequence of 35 bits)\n",
        "\n",
        "# Format: Likely a .csv, .txt, or .npy file\n",
        "\n",
        "# Objective: For each row (pattern), predict the next 35-bit sequence\n",
        "\n",
        "# 🔹STEP 1: Data Understanding & Preprocessing\n",
        "# Please upload the dataset first (or paste a sample). Meanwhile, here's how this step will look."
      ],
      "metadata": {
        "id": "KGi-DSHvUUxb"
      }
    },
    {
      "cell_type": "code",
      "source": [
        "import pandas as pd\n",
        "\n",
        "# Load the file\n",
        "file_path = \"/content/drive/MyDrive/Prediction Binary State Transitions in 35-Bit Patterns/binary_patterns.txt\"\n",
        "\n",
        "# Read and split each line by comma\n",
        "with open(file_path, 'r') as file:\n",
        "    lines = [line.strip() for line in file if line.strip()]\n",
        "    bit_data = [[int(bit) for bit in line.split(',')] for line in lines]\n",
        "\n",
        "# Convert to DataFrame\n",
        "df = pd.DataFrame(bit_data)\n",
        "df.columns = [f\"Bit_{i+1}\" for i in range(35)]\n",
        "\n",
        "# Preview\n",
        "print(df.head())\n",
        "print(f\"Total samples: {df.shape[0]} | Bit length: {df.shape[1]}\")\n",
        "\n"
      ],
      "metadata": {
        "colab": {
          "base_uri": "https://localhost:8080/"
        },
        "id": "9510RVhIzb-a",
        "outputId": "4f0e4745-324b-4baf-fe6e-a4a13f60764f"
      },
      "execution_count": null,
      "outputs": [
        {
          "output_type": "stream",
          "name": "stdout",
          "text": [
            "   Bit_1  Bit_2  Bit_3  Bit_4  Bit_5  Bit_6  Bit_7  Bit_8  Bit_9  Bit_10  ...  \\\n",
            "0      0      1      1      0      0      0      0      0      0       0  ...   \n",
            "1      0      1      1      0      0      1      0      1      0       0  ...   \n",
            "2      0      1      1      0      0      1      0      1      0       0  ...   \n",
            "3      0      1      1      0      0      0      0      0      0       0  ...   \n",
            "4      0      1      1      0      0      1      0      0      0       0  ...   \n",
            "\n",
            "   Bit_26  Bit_27  Bit_28  Bit_29  Bit_30  Bit_31  Bit_32  Bit_33  Bit_34  \\\n",
            "0       0       0       0       0       0       0       0       0       0   \n",
            "1       0       0       0       0       0       0       0       0       0   \n",
            "2       0       0       0       0       0       0       0       0       0   \n",
            "3       0       0       1       0       0       0       0       0       0   \n",
            "4       0       0       0       0       0       0       0       0       0   \n",
            "\n",
            "   Bit_35  \n",
            "0       0  \n",
            "1       0  \n",
            "2       0  \n",
            "3       0  \n",
            "4       0  \n",
            "\n",
            "[5 rows x 35 columns]\n",
            "Total samples: 2238 | Bit length: 35\n"
          ]
        }
      ]
    },
    {
      "cell_type": "markdown",
      "source": [
        "# ✅ Step 2: Prepare Input-Output Pairs\n",
        "# We’ll create:\n",
        "\n",
        "# X = Current pattern (row 0 to 2236)\n",
        "\n",
        "# y = Next pattern (row 1 to 2237)\n",
        "\n",
        "# # This forms supervised input-output pairs for training."
      ],
      "metadata": {
        "id": "tpaHIq_kVioM"
      }
    },
    {
      "cell_type": "code",
      "source": [
        "import numpy as np\n",
        "\n",
        "X = df.iloc[:-1].values   # Row 0 to n-2\n",
        "y = df.iloc[1:].values    # Row 1 to n-1\n",
        "\n",
        "print(f\"X shape: {X.shape}, y shape: {y.shape}\")\n"
      ],
      "metadata": {
        "colab": {
          "base_uri": "https://localhost:8080/"
        },
        "id": "T6zaXpWlzmWq",
        "outputId": "7acf1d91-3324-447b-e8cc-9ac5a225deb7"
      },
      "execution_count": null,
      "outputs": [
        {
          "output_type": "stream",
          "name": "stdout",
          "text": [
            "X shape: (2237, 35), y shape: (2237, 35)\n"
          ]
        }
      ]
    },
    {
      "cell_type": "markdown",
      "source": [
        "# ✅ Step 3: Logistic Regression Baseline\n",
        "# # We’ll train 35 logistic regression models — one for each bit position — to predict the bit’s next state."
      ],
      "metadata": {
        "id": "oi3BP32_WWPC"
      }
    },
    {
      "cell_type": "code",
      "source": [
        "from sklearn.linear_model import LogisticRegression\n",
        "from sklearn.model_selection import train_test_split\n",
        "from sklearn.metrics import accuracy_score\n",
        "\n",
        "bit_accuracies = []\n",
        "models = []\n",
        "\n",
        "# Split once (for all bits): use 80% train, 20% test\n",
        "X_train, X_test, y_train, y_test = train_test_split(X, y, test_size=0.2, random_state=42)\n",
        "\n",
        "# Train one model per bit\n",
        "for i in range(35):\n",
        "    model = LogisticRegression()\n",
        "    model.fit(X_train, y_train[:, i])  # Train on full pattern to predict bit i\n",
        "    preds = model.predict(X_test)\n",
        "    acc = accuracy_score(y_test[:, i], preds)\n",
        "\n",
        "    models.append(model)\n",
        "    bit_accuracies.append(acc)\n",
        "    print(f\"Bit_{i+1}: Accuracy = {acc:.4f}\")\n",
        "\n",
        "# Summary\n",
        "print(\"\\nAverage Accuracy across 35 bits:\", np.mean(bit_accuracies))\n"
      ],
      "metadata": {
        "colab": {
          "base_uri": "https://localhost:8080/"
        },
        "id": "diHUludkzgPL",
        "outputId": "023018fe-e733-4761-a929-583ab8eafcc0"
      },
      "execution_count": null,
      "outputs": [
        {
          "output_type": "stream",
          "name": "stdout",
          "text": [
            "Bit_1: Accuracy = 1.0000\n",
            "Bit_2: Accuracy = 0.9420\n",
            "Bit_3: Accuracy = 0.9018\n",
            "Bit_4: Accuracy = 0.8817\n",
            "Bit_5: Accuracy = 0.8013\n",
            "Bit_6: Accuracy = 0.7991\n",
            "Bit_7: Accuracy = 0.7790\n",
            "Bit_8: Accuracy = 0.7746\n",
            "Bit_9: Accuracy = 0.7790\n",
            "Bit_10: Accuracy = 0.6295\n",
            "Bit_11: Accuracy = 0.6384\n",
            "Bit_12: Accuracy = 0.5804\n",
            "Bit_13: Accuracy = 0.5402\n",
            "Bit_14: Accuracy = 0.4866\n",
            "Bit_15: Accuracy = 0.5402\n",
            "Bit_16: Accuracy = 0.5781\n",
            "Bit_17: Accuracy = 0.5670\n",
            "Bit_18: Accuracy = 0.6049\n",
            "Bit_19: Accuracy = 0.6317\n",
            "Bit_20: Accuracy = 0.6518\n",
            "Bit_21: Accuracy = 0.7277\n",
            "Bit_22: Accuracy = 0.7321\n",
            "Bit_23: Accuracy = 0.7746\n",
            "Bit_24: Accuracy = 0.7321\n",
            "Bit_25: Accuracy = 0.7790\n",
            "Bit_26: Accuracy = 0.8036\n",
            "Bit_27: Accuracy = 0.7812\n",
            "Bit_28: Accuracy = 0.8147\n",
            "Bit_29: Accuracy = 0.7879\n",
            "Bit_30: Accuracy = 0.8438\n",
            "Bit_31: Accuracy = 0.8304\n",
            "Bit_32: Accuracy = 0.8929\n",
            "Bit_33: Accuracy = 0.8259\n",
            "Bit_34: Accuracy = 0.8549\n",
            "Bit_35: Accuracy = 0.9129\n",
            "\n",
            "Average Accuracy across 35 bits: 0.7485969387755101\n"
          ]
        }
      ]
    },
    {
      "cell_type": "markdown",
      "source": [
        "✅ Step 4: Use a Deep Learning Model (Feedforward or LSTM)\n",
        "We’ll now build a Neural Network (MLP) that:\n",
        "\n",
        "Takes the full 35-bit pattern as input\n",
        "\n",
        "Outputs the next 35-bit pattern\n",
        "\n",
        "Learns cross-bit interactions and non-linear patterns"
      ],
      "metadata": {
        "id": "Oe-VGivPbmg6"
      }
    },
    {
      "cell_type": "code",
      "source": [
        "import tensorflow as tf\n",
        "from tensorflow.keras.models import Sequential\n",
        "from tensorflow.keras.layers import Dense\n",
        "from sklearn.metrics import accuracy_score\n",
        "\n",
        "# Create MLP model\n",
        "model = Sequential([\n",
        "    Dense(128, activation='relu', input_shape=(35,)),\n",
        "    Dense(64, activation='relu'),\n",
        "    Dense(35, activation='sigmoid')  # one output per bit\n",
        "])\n",
        "\n",
        "model.compile(optimizer='adam', loss='binary_crossentropy', metrics=['accuracy'])\n",
        "\n",
        "# Train model\n",
        "history = model.fit(X_train, y_train, epochs=30, batch_size=32, validation_split=0.1, verbose=1)\n"
      ],
      "metadata": {
        "colab": {
          "base_uri": "https://localhost:8080/"
        },
        "id": "uzFluMxpPbOd",
        "outputId": "39582e20-9726-499e-f2b2-63dc5ef27ef8"
      },
      "execution_count": null,
      "outputs": [
        {
          "output_type": "stream",
          "name": "stderr",
          "text": [
            "/usr/local/lib/python3.11/dist-packages/keras/src/layers/core/dense.py:87: UserWarning: Do not pass an `input_shape`/`input_dim` argument to a layer. When using Sequential models, prefer using an `Input(shape)` object as the first layer in the model instead.\n",
            "  super().__init__(activity_regularizer=activity_regularizer, **kwargs)\n"
          ]
        },
        {
          "output_type": "stream",
          "name": "stdout",
          "text": [
            "Epoch 1/30\n",
            "\u001b[1m51/51\u001b[0m \u001b[32m━━━━━━━━━━━━━━━━━━━━\u001b[0m\u001b[37m\u001b[0m \u001b[1m2s\u001b[0m 7ms/step - accuracy: 0.2280 - loss: 0.6226 - val_accuracy: 0.9944 - val_loss: 0.5194\n",
            "Epoch 2/30\n",
            "\u001b[1m51/51\u001b[0m \u001b[32m━━━━━━━━━━━━━━━━━━━━\u001b[0m\u001b[37m\u001b[0m \u001b[1m0s\u001b[0m 4ms/step - accuracy: 0.9932 - loss: 0.5177 - val_accuracy: 0.9944 - val_loss: 0.5160\n",
            "Epoch 3/30\n",
            "\u001b[1m51/51\u001b[0m \u001b[32m━━━━━━━━━━━━━━━━━━━━\u001b[0m\u001b[37m\u001b[0m \u001b[1m0s\u001b[0m 3ms/step - accuracy: 0.9873 - loss: 0.5101 - val_accuracy: 0.9944 - val_loss: 0.5152\n",
            "Epoch 4/30\n",
            "\u001b[1m51/51\u001b[0m \u001b[32m━━━━━━━━━━━━━━━━━━━━\u001b[0m\u001b[37m\u001b[0m \u001b[1m0s\u001b[0m 4ms/step - accuracy: 0.9912 - loss: 0.5106 - val_accuracy: 1.0000 - val_loss: 0.5138\n",
            "Epoch 5/30\n",
            "\u001b[1m51/51\u001b[0m \u001b[32m━━━━━━━━━━━━━━━━━━━━\u001b[0m\u001b[37m\u001b[0m \u001b[1m0s\u001b[0m 4ms/step - accuracy: 0.9905 - loss: 0.5100 - val_accuracy: 1.0000 - val_loss: 0.5139\n",
            "Epoch 6/30\n",
            "\u001b[1m51/51\u001b[0m \u001b[32m━━━━━━━━━━━━━━━━━━━━\u001b[0m\u001b[37m\u001b[0m \u001b[1m0s\u001b[0m 3ms/step - accuracy: 0.9899 - loss: 0.5063 - val_accuracy: 0.9944 - val_loss: 0.5141\n",
            "Epoch 7/30\n",
            "\u001b[1m51/51\u001b[0m \u001b[32m━━━━━━━━━━━━━━━━━━━━\u001b[0m\u001b[37m\u001b[0m \u001b[1m0s\u001b[0m 3ms/step - accuracy: 0.9841 - loss: 0.5027 - val_accuracy: 0.9777 - val_loss: 0.5139\n",
            "Epoch 8/30\n",
            "\u001b[1m51/51\u001b[0m \u001b[32m━━━━━━━━━━━━━━━━━━━━\u001b[0m\u001b[37m\u001b[0m \u001b[1m0s\u001b[0m 4ms/step - accuracy: 0.9629 - loss: 0.5036 - val_accuracy: 0.9665 - val_loss: 0.5145\n",
            "Epoch 9/30\n",
            "\u001b[1m51/51\u001b[0m \u001b[32m━━━━━━━━━━━━━━━━━━━━\u001b[0m\u001b[37m\u001b[0m \u001b[1m0s\u001b[0m 3ms/step - accuracy: 0.9573 - loss: 0.4999 - val_accuracy: 0.9609 - val_loss: 0.5129\n",
            "Epoch 10/30\n",
            "\u001b[1m51/51\u001b[0m \u001b[32m━━━━━━━━━━━━━━━━━━━━\u001b[0m\u001b[37m\u001b[0m \u001b[1m0s\u001b[0m 3ms/step - accuracy: 0.9591 - loss: 0.5002 - val_accuracy: 0.9609 - val_loss: 0.5133\n",
            "Epoch 11/30\n",
            "\u001b[1m51/51\u001b[0m \u001b[32m━━━━━━━━━━━━━━━━━━━━\u001b[0m\u001b[37m\u001b[0m \u001b[1m0s\u001b[0m 3ms/step - accuracy: 0.9441 - loss: 0.4970 - val_accuracy: 0.9665 - val_loss: 0.5142\n",
            "Epoch 12/30\n",
            "\u001b[1m51/51\u001b[0m \u001b[32m━━━━━━━━━━━━━━━━━━━━\u001b[0m\u001b[37m\u001b[0m \u001b[1m0s\u001b[0m 3ms/step - accuracy: 0.9580 - loss: 0.4976 - val_accuracy: 0.9609 - val_loss: 0.5148\n",
            "Epoch 13/30\n",
            "\u001b[1m51/51\u001b[0m \u001b[32m━━━━━━━━━━━━━━━━━━━━\u001b[0m\u001b[37m\u001b[0m \u001b[1m0s\u001b[0m 3ms/step - accuracy: 0.9532 - loss: 0.4971 - val_accuracy: 0.9553 - val_loss: 0.5145\n",
            "Epoch 14/30\n",
            "\u001b[1m51/51\u001b[0m \u001b[32m━━━━━━━━━━━━━━━━━━━━\u001b[0m\u001b[37m\u001b[0m \u001b[1m0s\u001b[0m 3ms/step - accuracy: 0.9425 - loss: 0.4931 - val_accuracy: 0.9721 - val_loss: 0.5154\n",
            "Epoch 15/30\n",
            "\u001b[1m51/51\u001b[0m \u001b[32m━━━━━━━━━━━━━━━━━━━━\u001b[0m\u001b[37m\u001b[0m \u001b[1m0s\u001b[0m 3ms/step - accuracy: 0.9572 - loss: 0.4902 - val_accuracy: 0.9553 - val_loss: 0.5165\n",
            "Epoch 16/30\n",
            "\u001b[1m51/51\u001b[0m \u001b[32m━━━━━━━━━━━━━━━━━━━━\u001b[0m\u001b[37m\u001b[0m \u001b[1m0s\u001b[0m 3ms/step - accuracy: 0.9532 - loss: 0.4905 - val_accuracy: 0.9721 - val_loss: 0.5163\n",
            "Epoch 17/30\n",
            "\u001b[1m51/51\u001b[0m \u001b[32m━━━━━━━━━━━━━━━━━━━━\u001b[0m\u001b[37m\u001b[0m \u001b[1m0s\u001b[0m 4ms/step - accuracy: 0.9558 - loss: 0.4871 - val_accuracy: 0.9553 - val_loss: 0.5171\n",
            "Epoch 18/30\n",
            "\u001b[1m51/51\u001b[0m \u001b[32m━━━━━━━━━━━━━━━━━━━━\u001b[0m\u001b[37m\u001b[0m \u001b[1m0s\u001b[0m 3ms/step - accuracy: 0.9427 - loss: 0.4877 - val_accuracy: 0.9777 - val_loss: 0.5159\n",
            "Epoch 19/30\n",
            "\u001b[1m51/51\u001b[0m \u001b[32m━━━━━━━━━━━━━━━━━━━━\u001b[0m\u001b[37m\u001b[0m \u001b[1m0s\u001b[0m 4ms/step - accuracy: 0.9610 - loss: 0.4877 - val_accuracy: 0.9721 - val_loss: 0.5174\n",
            "Epoch 20/30\n",
            "\u001b[1m51/51\u001b[0m \u001b[32m━━━━━━━━━━━━━━━━━━━━\u001b[0m\u001b[37m\u001b[0m \u001b[1m0s\u001b[0m 4ms/step - accuracy: 0.9633 - loss: 0.4836 - val_accuracy: 0.9832 - val_loss: 0.5170\n",
            "Epoch 21/30\n",
            "\u001b[1m51/51\u001b[0m \u001b[32m━━━━━━━━━━━━━━━━━━━━\u001b[0m\u001b[37m\u001b[0m \u001b[1m0s\u001b[0m 4ms/step - accuracy: 0.9486 - loss: 0.4808 - val_accuracy: 0.9721 - val_loss: 0.5187\n",
            "Epoch 22/30\n",
            "\u001b[1m51/51\u001b[0m \u001b[32m━━━━━━━━━━━━━━━━━━━━\u001b[0m\u001b[37m\u001b[0m \u001b[1m0s\u001b[0m 3ms/step - accuracy: 0.9528 - loss: 0.4804 - val_accuracy: 0.9832 - val_loss: 0.5184\n",
            "Epoch 23/30\n",
            "\u001b[1m51/51\u001b[0m \u001b[32m━━━━━━━━━━━━━━━━━━━━\u001b[0m\u001b[37m\u001b[0m \u001b[1m0s\u001b[0m 3ms/step - accuracy: 0.9621 - loss: 0.4813 - val_accuracy: 0.9832 - val_loss: 0.5192\n",
            "Epoch 24/30\n",
            "\u001b[1m51/51\u001b[0m \u001b[32m━━━━━━━━━━━━━━━━━━━━\u001b[0m\u001b[37m\u001b[0m \u001b[1m0s\u001b[0m 3ms/step - accuracy: 0.9509 - loss: 0.4785 - val_accuracy: 0.9832 - val_loss: 0.5201\n",
            "Epoch 25/30\n",
            "\u001b[1m51/51\u001b[0m \u001b[32m━━━━━━━━━━━━━━━━━━━━\u001b[0m\u001b[37m\u001b[0m \u001b[1m0s\u001b[0m 4ms/step - accuracy: 0.9571 - loss: 0.4741 - val_accuracy: 0.9944 - val_loss: 0.5206\n",
            "Epoch 26/30\n",
            "\u001b[1m51/51\u001b[0m \u001b[32m━━━━━━━━━━━━━━━━━━━━\u001b[0m\u001b[37m\u001b[0m \u001b[1m0s\u001b[0m 3ms/step - accuracy: 0.9589 - loss: 0.4719 - val_accuracy: 0.9832 - val_loss: 0.5236\n",
            "Epoch 27/30\n",
            "\u001b[1m51/51\u001b[0m \u001b[32m━━━━━━━━━━━━━━━━━━━━\u001b[0m\u001b[37m\u001b[0m \u001b[1m0s\u001b[0m 4ms/step - accuracy: 0.9595 - loss: 0.4712 - val_accuracy: 0.9777 - val_loss: 0.5225\n",
            "Epoch 28/30\n",
            "\u001b[1m51/51\u001b[0m \u001b[32m━━━━━━━━━━━━━━━━━━━━\u001b[0m\u001b[37m\u001b[0m \u001b[1m0s\u001b[0m 4ms/step - accuracy: 0.9653 - loss: 0.4765 - val_accuracy: 0.9832 - val_loss: 0.5238\n",
            "Epoch 29/30\n",
            "\u001b[1m51/51\u001b[0m \u001b[32m━━━━━━━━━━━━━━━━━━━━\u001b[0m\u001b[37m\u001b[0m \u001b[1m0s\u001b[0m 4ms/step - accuracy: 0.9632 - loss: 0.4708 - val_accuracy: 0.9944 - val_loss: 0.5255\n",
            "Epoch 30/30\n",
            "\u001b[1m51/51\u001b[0m \u001b[32m━━━━━━━━━━━━━━━━━━━━\u001b[0m\u001b[37m\u001b[0m \u001b[1m0s\u001b[0m 4ms/step - accuracy: 0.9586 - loss: 0.4669 - val_accuracy: 0.9944 - val_loss: 0.5244\n"
          ]
        }
      ]
    },
    {
      "cell_type": "code",
      "source": [
        "# Evaluate Accuracy Per Bit\n",
        "\n",
        "# Predict\n",
        "\n",
        "y_pred = model.predict(X_test)\n",
        "y_pred_binary = (y_pred > 0.5).astype(int)\n",
        "\n",
        "# Accuracy per bit\n",
        "bit_accuracies_nn = [accuracy_score(y_test[:, i], y_pred_binary[:, i]) for i in range(35)]\n",
        "\n",
        "# Print results\n",
        "for i, acc in enumerate(bit_accuracies_nn):\n",
        "    print(f\"Bit_{i+1}: Accuracy = {acc:.4f}\")\n",
        "\n",
        "print(\"\\nAverage Accuracy across 35 bits:\", np.mean(bit_accuracies_nn))\n"
      ],
      "metadata": {
        "colab": {
          "base_uri": "https://localhost:8080/"
        },
        "id": "fm6x45COQap8",
        "outputId": "91fd3d76-31ea-43c3-c26f-0da056cab6b7"
      },
      "execution_count": null,
      "outputs": [
        {
          "output_type": "stream",
          "name": "stdout",
          "text": [
            "\u001b[1m14/14\u001b[0m \u001b[32m━━━━━━━━━━━━━━━━━━━━\u001b[0m\u001b[37m\u001b[0m \u001b[1m0s\u001b[0m 11ms/step\n",
            "Bit_1: Accuracy = 1.0000\n",
            "Bit_2: Accuracy = 0.9420\n",
            "Bit_3: Accuracy = 0.9018\n",
            "Bit_4: Accuracy = 0.8795\n",
            "Bit_5: Accuracy = 0.7902\n",
            "Bit_6: Accuracy = 0.7879\n",
            "Bit_7: Accuracy = 0.7812\n",
            "Bit_8: Accuracy = 0.7701\n",
            "Bit_9: Accuracy = 0.7812\n",
            "Bit_10: Accuracy = 0.6384\n",
            "Bit_11: Accuracy = 0.6183\n",
            "Bit_12: Accuracy = 0.6027\n",
            "Bit_13: Accuracy = 0.5491\n",
            "Bit_14: Accuracy = 0.5112\n",
            "Bit_15: Accuracy = 0.5491\n",
            "Bit_16: Accuracy = 0.5558\n",
            "Bit_17: Accuracy = 0.5112\n",
            "Bit_18: Accuracy = 0.5714\n",
            "Bit_19: Accuracy = 0.6027\n",
            "Bit_20: Accuracy = 0.6272\n",
            "Bit_21: Accuracy = 0.7098\n",
            "Bit_22: Accuracy = 0.7277\n",
            "Bit_23: Accuracy = 0.7679\n",
            "Bit_24: Accuracy = 0.7366\n",
            "Bit_25: Accuracy = 0.7790\n",
            "Bit_26: Accuracy = 0.8036\n",
            "Bit_27: Accuracy = 0.7812\n",
            "Bit_28: Accuracy = 0.8147\n",
            "Bit_29: Accuracy = 0.7879\n",
            "Bit_30: Accuracy = 0.8438\n",
            "Bit_31: Accuracy = 0.8304\n",
            "Bit_32: Accuracy = 0.8929\n",
            "Bit_33: Accuracy = 0.8259\n",
            "Bit_34: Accuracy = 0.8549\n",
            "Bit_35: Accuracy = 0.9129\n",
            "\n",
            "Average Accuracy across 35 bits: 0.7440051020408164\n"
          ]
        }
      ]
    },
    {
      "cell_type": "markdown",
      "source": [
        "# ✅ Step-by-Step: Build & Evaluate Neural Network (MLP)\n",
        "# 📌 1. Model Creation & Training"
      ],
      "metadata": {
        "id": "868OzYFxb1hi"
      }
    },
    {
      "cell_type": "code",
      "source": [
        "import tensorflow as tf\n",
        "from tensorflow.keras.models import Sequential\n",
        "from tensorflow.keras.layers import Dense\n",
        "from sklearn.metrics import accuracy_score\n",
        "import numpy as np\n",
        "\n",
        "# Define the model\n",
        "model = Sequential([\n",
        "    Dense(256, activation='relu', input_shape=(35,)),\n",
        "    Dense(128, activation='relu'),\n",
        "    Dense(64, activation='relu'),\n",
        "    Dense(35, activation='sigmoid')  # output layer for 35 bits\n",
        "])\n",
        "\n",
        "# Compile the model\n",
        "model.compile(optimizer='adam', loss='binary_crossentropy', metrics=['accuracy'])\n",
        "\n",
        "# Train the model\n",
        "history = model.fit(X_train, y_train, epochs=50, batch_size=32, validation_split=0.1, verbose=1)\n"
      ],
      "metadata": {
        "colab": {
          "base_uri": "https://localhost:8080/"
        },
        "id": "angUInWuRLMZ",
        "outputId": "231f42ce-4b4b-4293-8e0b-fcfb7d3307b2"
      },
      "execution_count": null,
      "outputs": [
        {
          "output_type": "stream",
          "name": "stdout",
          "text": [
            "Epoch 1/50\n"
          ]
        },
        {
          "output_type": "stream",
          "name": "stderr",
          "text": [
            "/usr/local/lib/python3.11/dist-packages/keras/src/layers/core/dense.py:87: UserWarning: Do not pass an `input_shape`/`input_dim` argument to a layer. When using Sequential models, prefer using an `Input(shape)` object as the first layer in the model instead.\n",
            "  super().__init__(activity_regularizer=activity_regularizer, **kwargs)\n"
          ]
        },
        {
          "output_type": "stream",
          "name": "stdout",
          "text": [
            "\u001b[1m51/51\u001b[0m \u001b[32m━━━━━━━━━━━━━━━━━━━━\u001b[0m\u001b[37m\u001b[0m \u001b[1m4s\u001b[0m 13ms/step - accuracy: 0.4409 - loss: 0.6219 - val_accuracy: 0.9944 - val_loss: 0.5168\n",
            "Epoch 2/50\n",
            "\u001b[1m51/51\u001b[0m \u001b[32m━━━━━━━━━━━━━━━━━━━━\u001b[0m\u001b[37m\u001b[0m \u001b[1m1s\u001b[0m 7ms/step - accuracy: 0.9885 - loss: 0.5191 - val_accuracy: 0.9944 - val_loss: 0.5161\n",
            "Epoch 3/50\n",
            "\u001b[1m51/51\u001b[0m \u001b[32m━━━━━━━━━━━━━━━━━━━━\u001b[0m\u001b[37m\u001b[0m \u001b[1m0s\u001b[0m 4ms/step - accuracy: 0.9888 - loss: 0.5112 - val_accuracy: 0.9944 - val_loss: 0.5141\n",
            "Epoch 4/50\n",
            "\u001b[1m51/51\u001b[0m \u001b[32m━━━━━━━━━━━━━━━━━━━━\u001b[0m\u001b[37m\u001b[0m \u001b[1m0s\u001b[0m 4ms/step - accuracy: 0.9877 - loss: 0.5106 - val_accuracy: 0.9944 - val_loss: 0.5157\n",
            "Epoch 5/50\n",
            "\u001b[1m51/51\u001b[0m \u001b[32m━━━━━━━━━━━━━━━━━━━━\u001b[0m\u001b[37m\u001b[0m \u001b[1m0s\u001b[0m 4ms/step - accuracy: 0.9790 - loss: 0.5075 - val_accuracy: 0.9721 - val_loss: 0.5147\n",
            "Epoch 6/50\n",
            "\u001b[1m51/51\u001b[0m \u001b[32m━━━━━━━━━━━━━━━━━━━━\u001b[0m\u001b[37m\u001b[0m \u001b[1m0s\u001b[0m 5ms/step - accuracy: 0.9562 - loss: 0.5025 - val_accuracy: 0.9665 - val_loss: 0.5128\n",
            "Epoch 7/50\n",
            "\u001b[1m51/51\u001b[0m \u001b[32m━━━━━━━━━━━━━━━━━━━━\u001b[0m\u001b[37m\u001b[0m \u001b[1m0s\u001b[0m 4ms/step - accuracy: 0.9544 - loss: 0.4998 - val_accuracy: 0.9609 - val_loss: 0.5143\n",
            "Epoch 8/50\n",
            "\u001b[1m51/51\u001b[0m \u001b[32m━━━━━━━━━━━━━━━━━━━━\u001b[0m\u001b[37m\u001b[0m \u001b[1m0s\u001b[0m 4ms/step - accuracy: 0.9460 - loss: 0.4980 - val_accuracy: 0.9665 - val_loss: 0.5157\n",
            "Epoch 9/50\n",
            "\u001b[1m51/51\u001b[0m \u001b[32m━━━━━━━━━━━━━━━━━━━━\u001b[0m\u001b[37m\u001b[0m \u001b[1m0s\u001b[0m 4ms/step - accuracy: 0.9442 - loss: 0.4931 - val_accuracy: 0.9665 - val_loss: 0.5152\n",
            "Epoch 10/50\n",
            "\u001b[1m51/51\u001b[0m \u001b[32m━━━━━━━━━━━━━━━━━━━━\u001b[0m\u001b[37m\u001b[0m \u001b[1m0s\u001b[0m 4ms/step - accuracy: 0.9476 - loss: 0.4877 - val_accuracy: 0.9665 - val_loss: 0.5163\n",
            "Epoch 11/50\n",
            "\u001b[1m51/51\u001b[0m \u001b[32m━━━━━━━━━━━━━━━━━━━━\u001b[0m\u001b[37m\u001b[0m \u001b[1m0s\u001b[0m 4ms/step - accuracy: 0.9522 - loss: 0.4934 - val_accuracy: 0.9665 - val_loss: 0.5172\n",
            "Epoch 12/50\n",
            "\u001b[1m51/51\u001b[0m \u001b[32m━━━━━━━━━━━━━━━━━━━━\u001b[0m\u001b[37m\u001b[0m \u001b[1m0s\u001b[0m 4ms/step - accuracy: 0.9564 - loss: 0.4885 - val_accuracy: 0.9553 - val_loss: 0.5170\n",
            "Epoch 13/50\n",
            "\u001b[1m51/51\u001b[0m \u001b[32m━━━━━━━━━━━━━━━━━━━━\u001b[0m\u001b[37m\u001b[0m \u001b[1m0s\u001b[0m 4ms/step - accuracy: 0.9298 - loss: 0.4841 - val_accuracy: 0.9609 - val_loss: 0.5186\n",
            "Epoch 14/50\n",
            "\u001b[1m51/51\u001b[0m \u001b[32m━━━━━━━━━━━━━━━━━━━━\u001b[0m\u001b[37m\u001b[0m \u001b[1m0s\u001b[0m 4ms/step - accuracy: 0.9464 - loss: 0.4805 - val_accuracy: 0.9721 - val_loss: 0.5233\n",
            "Epoch 15/50\n",
            "\u001b[1m51/51\u001b[0m \u001b[32m━━━━━━━━━━━━━━━━━━━━\u001b[0m\u001b[37m\u001b[0m \u001b[1m0s\u001b[0m 4ms/step - accuracy: 0.9529 - loss: 0.4808 - val_accuracy: 0.9721 - val_loss: 0.5268\n",
            "Epoch 16/50\n",
            "\u001b[1m51/51\u001b[0m \u001b[32m━━━━━━━━━━━━━━━━━━━━\u001b[0m\u001b[37m\u001b[0m \u001b[1m0s\u001b[0m 5ms/step - accuracy: 0.9520 - loss: 0.4765 - val_accuracy: 0.9832 - val_loss: 0.5278\n",
            "Epoch 17/50\n",
            "\u001b[1m51/51\u001b[0m \u001b[32m━━━━━━━━━━━━━━━━━━━━\u001b[0m\u001b[37m\u001b[0m \u001b[1m0s\u001b[0m 5ms/step - accuracy: 0.9533 - loss: 0.4707 - val_accuracy: 0.9888 - val_loss: 0.5276\n",
            "Epoch 18/50\n",
            "\u001b[1m51/51\u001b[0m \u001b[32m━━━━━━━━━━━━━━━━━━━━\u001b[0m\u001b[37m\u001b[0m \u001b[1m0s\u001b[0m 4ms/step - accuracy: 0.9634 - loss: 0.4702 - val_accuracy: 0.9832 - val_loss: 0.5325\n",
            "Epoch 19/50\n",
            "\u001b[1m51/51\u001b[0m \u001b[32m━━━━━━━━━━━━━━━━━━━━\u001b[0m\u001b[37m\u001b[0m \u001b[1m0s\u001b[0m 4ms/step - accuracy: 0.9480 - loss: 0.4608 - val_accuracy: 0.9609 - val_loss: 0.5347\n",
            "Epoch 20/50\n",
            "\u001b[1m51/51\u001b[0m \u001b[32m━━━━━━━━━━━━━━━━━━━━\u001b[0m\u001b[37m\u001b[0m \u001b[1m0s\u001b[0m 4ms/step - accuracy: 0.9578 - loss: 0.4574 - val_accuracy: 0.9888 - val_loss: 0.5356\n",
            "Epoch 21/50\n",
            "\u001b[1m51/51\u001b[0m \u001b[32m━━━━━━━━━━━━━━━━━━━━\u001b[0m\u001b[37m\u001b[0m \u001b[1m0s\u001b[0m 4ms/step - accuracy: 0.9583 - loss: 0.4548 - val_accuracy: 0.9944 - val_loss: 0.5406\n",
            "Epoch 22/50\n",
            "\u001b[1m51/51\u001b[0m \u001b[32m━━━━━━━━━━━━━━━━━━━━\u001b[0m\u001b[37m\u001b[0m \u001b[1m0s\u001b[0m 5ms/step - accuracy: 0.9532 - loss: 0.4500 - val_accuracy: 0.9832 - val_loss: 0.5412\n",
            "Epoch 23/50\n",
            "\u001b[1m51/51\u001b[0m \u001b[32m━━━━━━━━━━━━━━━━━━━━\u001b[0m\u001b[37m\u001b[0m \u001b[1m0s\u001b[0m 4ms/step - accuracy: 0.9530 - loss: 0.4425 - val_accuracy: 0.9888 - val_loss: 0.5436\n",
            "Epoch 24/50\n",
            "\u001b[1m51/51\u001b[0m \u001b[32m━━━━━━━━━━━━━━━━━━━━\u001b[0m\u001b[37m\u001b[0m \u001b[1m0s\u001b[0m 4ms/step - accuracy: 0.9629 - loss: 0.4435 - val_accuracy: 0.9944 - val_loss: 0.5490\n",
            "Epoch 25/50\n",
            "\u001b[1m51/51\u001b[0m \u001b[32m━━━━━━━━━━━━━━━━━━━━\u001b[0m\u001b[37m\u001b[0m \u001b[1m0s\u001b[0m 4ms/step - accuracy: 0.9644 - loss: 0.4396 - val_accuracy: 0.9832 - val_loss: 0.5541\n",
            "Epoch 26/50\n",
            "\u001b[1m51/51\u001b[0m \u001b[32m━━━━━━━━━━━━━━━━━━━━\u001b[0m\u001b[37m\u001b[0m \u001b[1m0s\u001b[0m 4ms/step - accuracy: 0.9561 - loss: 0.4332 - val_accuracy: 0.9721 - val_loss: 0.5561\n",
            "Epoch 27/50\n",
            "\u001b[1m51/51\u001b[0m \u001b[32m━━━━━━━━━━━━━━━━━━━━\u001b[0m\u001b[37m\u001b[0m \u001b[1m0s\u001b[0m 4ms/step - accuracy: 0.9660 - loss: 0.4285 - val_accuracy: 0.9721 - val_loss: 0.5609\n",
            "Epoch 28/50\n",
            "\u001b[1m51/51\u001b[0m \u001b[32m━━━━━━━━━━━━━━━━━━━━\u001b[0m\u001b[37m\u001b[0m \u001b[1m0s\u001b[0m 4ms/step - accuracy: 0.9658 - loss: 0.4232 - val_accuracy: 0.9832 - val_loss: 0.5633\n",
            "Epoch 29/50\n",
            "\u001b[1m51/51\u001b[0m \u001b[32m━━━━━━━━━━━━━━━━━━━━\u001b[0m\u001b[37m\u001b[0m \u001b[1m0s\u001b[0m 4ms/step - accuracy: 0.9637 - loss: 0.4198 - val_accuracy: 0.9721 - val_loss: 0.5678\n",
            "Epoch 30/50\n",
            "\u001b[1m51/51\u001b[0m \u001b[32m━━━━━━━━━━━━━━━━━━━━\u001b[0m\u001b[37m\u001b[0m \u001b[1m0s\u001b[0m 4ms/step - accuracy: 0.9577 - loss: 0.4149 - val_accuracy: 0.9832 - val_loss: 0.5759\n",
            "Epoch 31/50\n",
            "\u001b[1m51/51\u001b[0m \u001b[32m━━━━━━━━━━━━━━━━━━━━\u001b[0m\u001b[37m\u001b[0m \u001b[1m0s\u001b[0m 4ms/step - accuracy: 0.9570 - loss: 0.4049 - val_accuracy: 0.9832 - val_loss: 0.5742\n",
            "Epoch 32/50\n",
            "\u001b[1m51/51\u001b[0m \u001b[32m━━━━━━━━━━━━━━━━━━━━\u001b[0m\u001b[37m\u001b[0m \u001b[1m0s\u001b[0m 4ms/step - accuracy: 0.9574 - loss: 0.4032 - val_accuracy: 0.9832 - val_loss: 0.5828\n",
            "Epoch 33/50\n",
            "\u001b[1m51/51\u001b[0m \u001b[32m━━━━━━━━━━━━━━━━━━━━\u001b[0m\u001b[37m\u001b[0m \u001b[1m0s\u001b[0m 4ms/step - accuracy: 0.9552 - loss: 0.3974 - val_accuracy: 0.9721 - val_loss: 0.5899\n",
            "Epoch 34/50\n",
            "\u001b[1m51/51\u001b[0m \u001b[32m━━━━━━━━━━━━━━━━━━━━\u001b[0m\u001b[37m\u001b[0m \u001b[1m0s\u001b[0m 4ms/step - accuracy: 0.9519 - loss: 0.3951 - val_accuracy: 0.9832 - val_loss: 0.5926\n",
            "Epoch 35/50\n",
            "\u001b[1m51/51\u001b[0m \u001b[32m━━━━━━━━━━━━━━━━━━━━\u001b[0m\u001b[37m\u001b[0m \u001b[1m0s\u001b[0m 4ms/step - accuracy: 0.9480 - loss: 0.3857 - val_accuracy: 0.9832 - val_loss: 0.5927\n",
            "Epoch 36/50\n",
            "\u001b[1m51/51\u001b[0m \u001b[32m━━━━━━━━━━━━━━━━━━━━\u001b[0m\u001b[37m\u001b[0m \u001b[1m0s\u001b[0m 5ms/step - accuracy: 0.9614 - loss: 0.3834 - val_accuracy: 0.9777 - val_loss: 0.5994\n",
            "Epoch 37/50\n",
            "\u001b[1m51/51\u001b[0m \u001b[32m━━━━━━━━━━━━━━━━━━━━\u001b[0m\u001b[37m\u001b[0m \u001b[1m0s\u001b[0m 4ms/step - accuracy: 0.9627 - loss: 0.3832 - val_accuracy: 0.9832 - val_loss: 0.6022\n",
            "Epoch 38/50\n",
            "\u001b[1m51/51\u001b[0m \u001b[32m━━━━━━━━━━━━━━━━━━━━\u001b[0m\u001b[37m\u001b[0m \u001b[1m0s\u001b[0m 5ms/step - accuracy: 0.9634 - loss: 0.3775 - val_accuracy: 0.9777 - val_loss: 0.6151\n",
            "Epoch 39/50\n",
            "\u001b[1m51/51\u001b[0m \u001b[32m━━━━━━━━━━━━━━━━━━━━\u001b[0m\u001b[37m\u001b[0m \u001b[1m0s\u001b[0m 5ms/step - accuracy: 0.9561 - loss: 0.3724 - val_accuracy: 0.9777 - val_loss: 0.6176\n",
            "Epoch 40/50\n",
            "\u001b[1m51/51\u001b[0m \u001b[32m━━━━━━━━━━━━━━━━━━━━\u001b[0m\u001b[37m\u001b[0m \u001b[1m0s\u001b[0m 7ms/step - accuracy: 0.9690 - loss: 0.3708 - val_accuracy: 0.9777 - val_loss: 0.6292\n",
            "Epoch 41/50\n",
            "\u001b[1m51/51\u001b[0m \u001b[32m━━━━━━━━━━━━━━━━━━━━\u001b[0m\u001b[37m\u001b[0m \u001b[1m1s\u001b[0m 6ms/step - accuracy: 0.9611 - loss: 0.3666 - val_accuracy: 0.9777 - val_loss: 0.6326\n",
            "Epoch 42/50\n",
            "\u001b[1m51/51\u001b[0m \u001b[32m━━━━━━━━━━━━━━━━━━━━\u001b[0m\u001b[37m\u001b[0m \u001b[1m0s\u001b[0m 7ms/step - accuracy: 0.9588 - loss: 0.3522 - val_accuracy: 0.9777 - val_loss: 0.6387\n",
            "Epoch 43/50\n",
            "\u001b[1m51/51\u001b[0m \u001b[32m━━━━━━━━━━━━━━━━━━━━\u001b[0m\u001b[37m\u001b[0m \u001b[1m0s\u001b[0m 7ms/step - accuracy: 0.9463 - loss: 0.3548 - val_accuracy: 0.9832 - val_loss: 0.6425\n",
            "Epoch 44/50\n",
            "\u001b[1m51/51\u001b[0m \u001b[32m━━━━━━━━━━━━━━━━━━━━\u001b[0m\u001b[37m\u001b[0m \u001b[1m1s\u001b[0m 7ms/step - accuracy: 0.9602 - loss: 0.3490 - val_accuracy: 0.9777 - val_loss: 0.6504\n",
            "Epoch 45/50\n",
            "\u001b[1m51/51\u001b[0m \u001b[32m━━━━━━━━━━━━━━━━━━━━\u001b[0m\u001b[37m\u001b[0m \u001b[1m0s\u001b[0m 9ms/step - accuracy: 0.9553 - loss: 0.3406 - val_accuracy: 0.9832 - val_loss: 0.6484\n",
            "Epoch 46/50\n",
            "\u001b[1m51/51\u001b[0m \u001b[32m━━━━━━━━━━━━━━━━━━━━\u001b[0m\u001b[37m\u001b[0m \u001b[1m0s\u001b[0m 5ms/step - accuracy: 0.9616 - loss: 0.3401 - val_accuracy: 0.9832 - val_loss: 0.6669\n",
            "Epoch 47/50\n",
            "\u001b[1m51/51\u001b[0m \u001b[32m━━━━━━━━━━━━━━━━━━━━\u001b[0m\u001b[37m\u001b[0m \u001b[1m0s\u001b[0m 4ms/step - accuracy: 0.9592 - loss: 0.3392 - val_accuracy: 0.9832 - val_loss: 0.6663\n",
            "Epoch 48/50\n",
            "\u001b[1m51/51\u001b[0m \u001b[32m━━━━━━━━━━━━━━━━━━━━\u001b[0m\u001b[37m\u001b[0m \u001b[1m0s\u001b[0m 4ms/step - accuracy: 0.9608 - loss: 0.3279 - val_accuracy: 0.9777 - val_loss: 0.6768\n",
            "Epoch 49/50\n",
            "\u001b[1m51/51\u001b[0m \u001b[32m━━━━━━━━━━━━━━━━━━━━\u001b[0m\u001b[37m\u001b[0m \u001b[1m0s\u001b[0m 4ms/step - accuracy: 0.9641 - loss: 0.3315 - val_accuracy: 0.9832 - val_loss: 0.6787\n",
            "Epoch 50/50\n",
            "\u001b[1m51/51\u001b[0m \u001b[32m━━━━━━━━━━━━━━━━━━━━\u001b[0m\u001b[37m\u001b[0m \u001b[1m0s\u001b[0m 4ms/step - accuracy: 0.9574 - loss: 0.3183 - val_accuracy: 0.9777 - val_loss: 0.6887\n"
          ]
        }
      ]
    },
    {
      "cell_type": "markdown",
      "source": [
        "# 📌 2. Predict and Evaluate Accuracy Per Bit"
      ],
      "metadata": {
        "id": "-6dIqLAtb-Uj"
      }
    },
    {
      "cell_type": "code",
      "source": [
        "# Predict on test set\n",
        "y_pred = model.predict(X_test)\n",
        "\n",
        "# Convert probabilities to binary (threshold = 0.5)\n",
        "y_pred_binary = (y_pred > 0.5).astype(int)\n",
        "\n",
        "# Calculate accuracy per bit\n",
        "bit_accuracies_nn = [accuracy_score(y_test[:, i], y_pred_binary[:, i]) for i in range(35)]\n",
        "\n",
        "# Print individual and average accuracy\n",
        "for i, acc in enumerate(bit_accuracies_nn):\n",
        "    print(f\"Bit_{i+1:2d}: Accuracy = {acc:.4f}\")\n",
        "\n",
        "print(\"\\n🔍 Average Accuracy across 35 bits:\", np.mean(bit_accuracies_nn))\n"
      ],
      "metadata": {
        "colab": {
          "base_uri": "https://localhost:8080/"
        },
        "id": "iBkEtFc8RbXJ",
        "outputId": "f78771ae-901f-4858-9497-f85ee3d63e0d"
      },
      "execution_count": null,
      "outputs": [
        {
          "output_type": "stream",
          "name": "stdout",
          "text": [
            "\u001b[1m14/14\u001b[0m \u001b[32m━━━━━━━━━━━━━━━━━━━━\u001b[0m\u001b[37m\u001b[0m \u001b[1m0s\u001b[0m 4ms/step \n",
            "Bit_ 1: Accuracy = 1.0000\n",
            "Bit_ 2: Accuracy = 0.9286\n",
            "Bit_ 3: Accuracy = 0.8951\n",
            "Bit_ 4: Accuracy = 0.8728\n",
            "Bit_ 5: Accuracy = 0.7812\n",
            "Bit_ 6: Accuracy = 0.6741\n",
            "Bit_ 7: Accuracy = 0.7210\n",
            "Bit_ 8: Accuracy = 0.6540\n",
            "Bit_ 9: Accuracy = 0.7433\n",
            "Bit_10: Accuracy = 0.6138\n",
            "Bit_11: Accuracy = 0.5558\n",
            "Bit_12: Accuracy = 0.5737\n",
            "Bit_13: Accuracy = 0.5201\n",
            "Bit_14: Accuracy = 0.5067\n",
            "Bit_15: Accuracy = 0.5558\n",
            "Bit_16: Accuracy = 0.5022\n",
            "Bit_17: Accuracy = 0.4955\n",
            "Bit_18: Accuracy = 0.5223\n",
            "Bit_19: Accuracy = 0.5871\n",
            "Bit_20: Accuracy = 0.5737\n",
            "Bit_21: Accuracy = 0.6652\n",
            "Bit_22: Accuracy = 0.6518\n",
            "Bit_23: Accuracy = 0.7188\n",
            "Bit_24: Accuracy = 0.7143\n",
            "Bit_25: Accuracy = 0.7076\n",
            "Bit_26: Accuracy = 0.7634\n",
            "Bit_27: Accuracy = 0.7299\n",
            "Bit_28: Accuracy = 0.7188\n",
            "Bit_29: Accuracy = 0.7656\n",
            "Bit_30: Accuracy = 0.7812\n",
            "Bit_31: Accuracy = 0.7835\n",
            "Bit_32: Accuracy = 0.8750\n",
            "Bit_33: Accuracy = 0.7991\n",
            "Bit_34: Accuracy = 0.8259\n",
            "Bit_35: Accuracy = 0.8996\n",
            "\n",
            "🔍 Average Accuracy across 35 bits: 0.7050382653061226\n"
          ]
        }
      ]
    },
    {
      "cell_type": "markdown",
      "source": [
        "3. Plot Training Progress"
      ],
      "metadata": {
        "id": "cH6HyQfgcFsD"
      }
    },
    {
      "cell_type": "code",
      "source": [
        "import matplotlib.pyplot as plt\n",
        "\n",
        "plt.plot(history.history['loss'], label='Train Loss')\n",
        "plt.plot(history.history['val_loss'], label='Val Loss')\n",
        "plt.title(\"Loss over Epochs\")\n",
        "plt.xlabel(\"Epoch\")\n",
        "plt.ylabel(\"Binary Crossentropy Loss\")\n",
        "plt.legend()\n",
        "plt.grid(True)\n",
        "plt.show()\n"
      ],
      "metadata": {
        "colab": {
          "base_uri": "https://localhost:8080/",
          "height": 472
        },
        "id": "w71TAC2pReGo",
        "outputId": "63cd9c72-1627-42b4-d8a0-3420cdea2867"
      },
      "execution_count": null,
      "outputs": [
        {
          "output_type": "display_data",
          "data": {
            "text/plain": [
              "<Figure size 640x480 with 1 Axes>"
            ],
            "image/png": "[encoded data removed]"
          },
          "metadata": {}
        }
      ]
    },
    {
      "cell_type": "markdown",
      "source": [
        "# Thanks! Since the MLP’s average accuracy is still around 0.70, and your training loss is improving while validation loss increases, it's a sign of overfitting. Now, we’ll shift to a more powerful architecture:\n",
        "\n",
        "#  1. Create Sequence Windows (e.g., 5 steps → 1 step)\n"
      ],
      "metadata": {
        "id": "15FqJtz2cL4x"
      }
    },
    {
      "cell_type": "code",
      "source": [
        "\n",
        "import numpy as np\n",
        "\n",
        "def create_sequences(data, window_size=5):\n",
        "    X_seq, y_seq = [], []\n",
        "    for i in range(len(data) - window_size):\n",
        "        X_seq.append(data[i:i+window_size])     # 5 rows\n",
        "        y_seq.append(data[i+window_size])       # next row\n",
        "    return np.array(X_seq), np.array(y_seq)\n",
        "\n",
        "# Apply to original DataFrame\n",
        "X_seq, y_seq = create_sequences(df.values, window_size=5)\n",
        "\n",
        "print(f\"X shape: {X_seq.shape} | y shape: {y_seq.shape}\")\n",
        "# Should be (N, 5, 35) and (N, 35)\n"
      ],
      "metadata": {
        "colab": {
          "base_uri": "https://localhost:8080/"
        },
        "id": "YGw8twd-Sf0Z",
        "outputId": "e15c1265-6b3c-43f0-c4f2-66c6811ddfb3"
      },
      "execution_count": null,
      "outputs": [
        {
          "output_type": "stream",
          "name": "stdout",
          "text": [
            "X shape: (2233, 5, 35) | y shape: (2233, 35)\n"
          ]
        }
      ]
    },
    {
      "cell_type": "markdown",
      "source": [
        "# 2. Build the LSTM Model"
      ],
      "metadata": {
        "id": "Ozt3POkNcYSO"
      }
    },
    {
      "cell_type": "code",
      "source": [
        "# 2. Build the LSTM Model\n",
        "\n",
        "from tensorflow.keras.models import Sequential\n",
        "from tensorflow.keras.layers import LSTM, Dense\n",
        "\n",
        "# Build LSTM model\n",
        "model_lstm = Sequential([\n",
        "    LSTM(128, activation='tanh', input_shape=(5, 35), return_sequences=False),\n",
        "    Dense(64, activation='relu'),\n",
        "    Dense(35, activation='sigmoid')\n",
        "])\n",
        "\n",
        "model_lstm.compile(optimizer='adam', loss='binary_crossentropy', metrics=['accuracy'])\n"
      ],
      "metadata": {
        "colab": {
          "base_uri": "https://localhost:8080/"
        },
        "id": "R6DYbDXbShQo",
        "outputId": "6366a4cd-9afa-4254-8194-b5db3b41ad93"
      },
      "execution_count": null,
      "outputs": [
        {
          "output_type": "stream",
          "name": "stderr",
          "text": [
            "/usr/local/lib/python3.11/dist-packages/keras/src/layers/rnn/rnn.py:200: UserWarning: Do not pass an `input_shape`/`input_dim` argument to a layer. When using Sequential models, prefer using an `Input(shape)` object as the first layer in the model instead.\n",
            "  super().__init__(**kwargs)\n"
          ]
        }
      ]
    },
    {
      "cell_type": "code",
      "source": [
        "# Train/test split\n",
        "from sklearn.model_selection import train_test_split\n",
        "X_train_seq, X_test_seq, y_train_seq, y_test_seq = train_test_split(X_seq, y_seq, test_size=0.2, random_state=42)\n",
        "\n",
        "# Fit model\n",
        "history_lstm = model_lstm.fit(X_train_seq, y_train_seq, epochs=50, batch_size=32, validation_split=0.1, verbose=1)\n"
      ],
      "metadata": {
        "colab": {
          "base_uri": "https://localhost:8080/"
        },
        "id": "hfDYL8y4SzBZ",
        "outputId": "4e3f6e40-67d8-4352-99df-1ec45b4498d0"
      },
      "execution_count": null,
      "outputs": [
        {
          "output_type": "stream",
          "name": "stdout",
          "text": [
            "Epoch 1/50\n",
            "\u001b[1m51/51\u001b[0m \u001b[32m━━━━━━━━━━━━━━━━━━━━\u001b[0m\u001b[37m\u001b[0m \u001b[1m5s\u001b[0m 29ms/step - accuracy: 0.2071 - loss: 0.6318 - val_accuracy: 0.9944 - val_loss: 0.5212\n",
            "Epoch 2/50\n",
            "\u001b[1m51/51\u001b[0m \u001b[32m━━━━━━━━━━━━━━━━━━━━\u001b[0m\u001b[37m\u001b[0m \u001b[1m1s\u001b[0m 19ms/step - accuracy: 0.9944 - loss: 0.5212 - val_accuracy: 0.9944 - val_loss: 0.5179\n",
            "Epoch 3/50\n",
            "\u001b[1m51/51\u001b[0m \u001b[32m━━━━━━━━━━━━━━━━━━━━\u001b[0m\u001b[37m\u001b[0m \u001b[1m1s\u001b[0m 17ms/step - accuracy: 0.9885 - loss: 0.5110 - val_accuracy: 0.9609 - val_loss: 0.5122\n",
            "Epoch 4/50\n",
            "\u001b[1m51/51\u001b[0m \u001b[32m━━━━━━━━━━━━━━━━━━━━\u001b[0m\u001b[37m\u001b[0m \u001b[1m1s\u001b[0m 10ms/step - accuracy: 0.9211 - loss: 0.5086 - val_accuracy: 0.9888 - val_loss: 0.5087\n",
            "Epoch 5/50\n",
            "\u001b[1m51/51\u001b[0m \u001b[32m━━━━━━━━━━━━━━━━━━━━\u001b[0m\u001b[37m\u001b[0m \u001b[1m1s\u001b[0m 10ms/step - accuracy: 0.9526 - loss: 0.5056 - val_accuracy: 0.9888 - val_loss: 0.5079\n",
            "Epoch 6/50\n",
            "\u001b[1m51/51\u001b[0m \u001b[32m━━━━━━━━━━━━━━━━━━━━\u001b[0m\u001b[37m\u001b[0m \u001b[1m1s\u001b[0m 10ms/step - accuracy: 0.9464 - loss: 0.5026 - val_accuracy: 0.9497 - val_loss: 0.5068\n",
            "Epoch 7/50\n",
            "\u001b[1m51/51\u001b[0m \u001b[32m━━━━━━━━━━━━━━━━━━━━\u001b[0m\u001b[37m\u001b[0m \u001b[1m1s\u001b[0m 16ms/step - accuracy: 0.9354 - loss: 0.5023 - val_accuracy: 0.9777 - val_loss: 0.5058\n",
            "Epoch 8/50\n",
            "\u001b[1m51/51\u001b[0m \u001b[32m━━━━━━━━━━━━━━━━━━━━\u001b[0m\u001b[37m\u001b[0m \u001b[1m1s\u001b[0m 13ms/step - accuracy: 0.9252 - loss: 0.5007 - val_accuracy: 0.9665 - val_loss: 0.5057\n",
            "Epoch 9/50\n",
            "\u001b[1m51/51\u001b[0m \u001b[32m━━━━━━━━━━━━━━━━━━━━\u001b[0m\u001b[37m\u001b[0m \u001b[1m1s\u001b[0m 16ms/step - accuracy: 0.9346 - loss: 0.5019 - val_accuracy: 0.9832 - val_loss: 0.5073\n",
            "Epoch 10/50\n",
            "\u001b[1m51/51\u001b[0m \u001b[32m━━━━━━━━━━━━━━━━━━━━\u001b[0m\u001b[37m\u001b[0m \u001b[1m1s\u001b[0m 10ms/step - accuracy: 0.9411 - loss: 0.4963 - val_accuracy: 0.9721 - val_loss: 0.5066\n",
            "Epoch 11/50\n",
            "\u001b[1m51/51\u001b[0m \u001b[32m━━━━━━━━━━━━━━━━━━━━\u001b[0m\u001b[37m\u001b[0m \u001b[1m1s\u001b[0m 10ms/step - accuracy: 0.9425 - loss: 0.4955 - val_accuracy: 0.9553 - val_loss: 0.5072\n",
            "Epoch 12/50\n",
            "\u001b[1m51/51\u001b[0m \u001b[32m━━━━━━━━━━━━━━━━━━━━\u001b[0m\u001b[37m\u001b[0m \u001b[1m1s\u001b[0m 10ms/step - accuracy: 0.9233 - loss: 0.4947 - val_accuracy: 0.9721 - val_loss: 0.5076\n",
            "Epoch 13/50\n",
            "\u001b[1m51/51\u001b[0m \u001b[32m━━━━━━━━━━━━━━━━━━━━\u001b[0m\u001b[37m\u001b[0m \u001b[1m1s\u001b[0m 10ms/step - accuracy: 0.9326 - loss: 0.4960 - val_accuracy: 0.9721 - val_loss: 0.5088\n",
            "Epoch 14/50\n",
            "\u001b[1m51/51\u001b[0m \u001b[32m━━━━━━━━━━━━━━━━━━━━\u001b[0m\u001b[37m\u001b[0m \u001b[1m1s\u001b[0m 11ms/step - accuracy: 0.9340 - loss: 0.4966 - val_accuracy: 0.9777 - val_loss: 0.5094\n",
            "Epoch 15/50\n",
            "\u001b[1m51/51\u001b[0m \u001b[32m━━━━━━━━━━━━━━━━━━━━\u001b[0m\u001b[37m\u001b[0m \u001b[1m1s\u001b[0m 11ms/step - accuracy: 0.9332 - loss: 0.4918 - val_accuracy: 0.9777 - val_loss: 0.5088\n",
            "Epoch 16/50\n",
            "\u001b[1m51/51\u001b[0m \u001b[32m━━━━━━━━━━━━━━━━━━━━\u001b[0m\u001b[37m\u001b[0m \u001b[1m1s\u001b[0m 11ms/step - accuracy: 0.9276 - loss: 0.4881 - val_accuracy: 0.9665 - val_loss: 0.5103\n",
            "Epoch 17/50\n",
            "\u001b[1m51/51\u001b[0m \u001b[32m━━━━━━━━━━━━━━━━━━━━\u001b[0m\u001b[37m\u001b[0m \u001b[1m1s\u001b[0m 12ms/step - accuracy: 0.9431 - loss: 0.4896 - val_accuracy: 0.9777 - val_loss: 0.5104\n",
            "Epoch 18/50\n",
            "\u001b[1m51/51\u001b[0m \u001b[32m━━━━━━━━━━━━━━━━━━━━\u001b[0m\u001b[37m\u001b[0m \u001b[1m2s\u001b[0m 21ms/step - accuracy: 0.9424 - loss: 0.4888 - val_accuracy: 0.9721 - val_loss: 0.5125\n",
            "Epoch 19/50\n",
            "\u001b[1m51/51\u001b[0m \u001b[32m━━━━━━━━━━━━━━━━━━━━\u001b[0m\u001b[37m\u001b[0m \u001b[1m2s\u001b[0m 37ms/step - accuracy: 0.9460 - loss: 0.4863 - val_accuracy: 0.9721 - val_loss: 0.5142\n",
            "Epoch 20/50\n",
            "\u001b[1m51/51\u001b[0m \u001b[32m━━━━━━━━━━━━━━━━━━━━\u001b[0m\u001b[37m\u001b[0m \u001b[1m2s\u001b[0m 27ms/step - accuracy: 0.9459 - loss: 0.4846 - val_accuracy: 0.9832 - val_loss: 0.5145\n",
            "Epoch 21/50\n",
            "\u001b[1m51/51\u001b[0m \u001b[32m━━━━━━━━━━━━━━━━━━━━\u001b[0m\u001b[37m\u001b[0m \u001b[1m2s\u001b[0m 24ms/step - accuracy: 0.9514 - loss: 0.4826 - val_accuracy: 0.9832 - val_loss: 0.5169\n",
            "Epoch 22/50\n",
            "\u001b[1m51/51\u001b[0m \u001b[32m━━━━━━━━━━━━━━━━━━━━\u001b[0m\u001b[37m\u001b[0m \u001b[1m2s\u001b[0m 19ms/step - accuracy: 0.9455 - loss: 0.4798 - val_accuracy: 0.9832 - val_loss: 0.5167\n",
            "Epoch 23/50\n",
            "\u001b[1m51/51\u001b[0m \u001b[32m━━━━━━━━━━━━━━━━━━━━\u001b[0m\u001b[37m\u001b[0m \u001b[1m1s\u001b[0m 19ms/step - accuracy: 0.9538 - loss: 0.4780 - val_accuracy: 0.9832 - val_loss: 0.5228\n",
            "Epoch 24/50\n",
            "\u001b[1m51/51\u001b[0m \u001b[32m━━━━━━━━━━━━━━━━━━━━\u001b[0m\u001b[37m\u001b[0m \u001b[1m1s\u001b[0m 11ms/step - accuracy: 0.9539 - loss: 0.4792 - val_accuracy: 0.9777 - val_loss: 0.5225\n",
            "Epoch 25/50\n",
            "\u001b[1m51/51\u001b[0m \u001b[32m━━━━━━━━━━━━━━━━━━━━\u001b[0m\u001b[37m\u001b[0m \u001b[1m1s\u001b[0m 11ms/step - accuracy: 0.9600 - loss: 0.4754 - val_accuracy: 0.9832 - val_loss: 0.5229\n",
            "Epoch 26/50\n",
            "\u001b[1m51/51\u001b[0m \u001b[32m━━━━━━━━━━━━━━━━━━━━\u001b[0m\u001b[37m\u001b[0m \u001b[1m1s\u001b[0m 11ms/step - accuracy: 0.9488 - loss: 0.4683 - val_accuracy: 0.9832 - val_loss: 0.5247\n",
            "Epoch 27/50\n",
            "\u001b[1m51/51\u001b[0m \u001b[32m━━━━━━━━━━━━━━━━━━━━\u001b[0m\u001b[37m\u001b[0m \u001b[1m1s\u001b[0m 14ms/step - accuracy: 0.9655 - loss: 0.4688 - val_accuracy: 0.9832 - val_loss: 0.5280\n",
            "Epoch 28/50\n",
            "\u001b[1m51/51\u001b[0m \u001b[32m━━━━━━━━━━━━━━━━━━━━\u001b[0m\u001b[37m\u001b[0m \u001b[1m1s\u001b[0m 18ms/step - accuracy: 0.9657 - loss: 0.4658 - val_accuracy: 0.9888 - val_loss: 0.5291\n",
            "Epoch 29/50\n",
            "\u001b[1m51/51\u001b[0m \u001b[32m━━━━━━━━━━━━━━━━━━━━\u001b[0m\u001b[37m\u001b[0m \u001b[1m1s\u001b[0m 19ms/step - accuracy: 0.9602 - loss: 0.4592 - val_accuracy: 0.9832 - val_loss: 0.5325\n",
            "Epoch 30/50\n",
            "\u001b[1m51/51\u001b[0m \u001b[32m━━━━━━━━━━━━━━━━━━━━\u001b[0m\u001b[37m\u001b[0m \u001b[1m1s\u001b[0m 17ms/step - accuracy: 0.9680 - loss: 0.4543 - val_accuracy: 0.9832 - val_loss: 0.5351\n",
            "Epoch 31/50\n",
            "\u001b[1m51/51\u001b[0m \u001b[32m━━━━━━━━━━━━━━━━━━━━\u001b[0m\u001b[37m\u001b[0m \u001b[1m1s\u001b[0m 11ms/step - accuracy: 0.9556 - loss: 0.4516 - val_accuracy: 0.9832 - val_loss: 0.5385\n",
            "Epoch 32/50\n",
            "\u001b[1m51/51\u001b[0m \u001b[32m━━━━━━━━━━━━━━━━━━━━\u001b[0m\u001b[37m\u001b[0m \u001b[1m1s\u001b[0m 11ms/step - accuracy: 0.9666 - loss: 0.4461 - val_accuracy: 0.9832 - val_loss: 0.5434\n",
            "Epoch 33/50\n",
            "\u001b[1m51/51\u001b[0m \u001b[32m━━━━━━━━━━━━━━━━━━━━\u001b[0m\u001b[37m\u001b[0m \u001b[1m1s\u001b[0m 10ms/step - accuracy: 0.9583 - loss: 0.4399 - val_accuracy: 0.9832 - val_loss: 0.5448\n",
            "Epoch 34/50\n",
            "\u001b[1m51/51\u001b[0m \u001b[32m━━━━━━━━━━━━━━━━━━━━\u001b[0m\u001b[37m\u001b[0m \u001b[1m1s\u001b[0m 10ms/step - accuracy: 0.9667 - loss: 0.4336 - val_accuracy: 0.9832 - val_loss: 0.5474\n",
            "Epoch 35/50\n",
            "\u001b[1m51/51\u001b[0m \u001b[32m━━━━━━━━━━━━━━━━━━━━\u001b[0m\u001b[37m\u001b[0m \u001b[1m1s\u001b[0m 11ms/step - accuracy: 0.9745 - loss: 0.4298 - val_accuracy: 0.9832 - val_loss: 0.5568\n",
            "Epoch 36/50\n",
            "\u001b[1m51/51\u001b[0m \u001b[32m━━━━━━━━━━━━━━━━━━━━\u001b[0m\u001b[37m\u001b[0m \u001b[1m1s\u001b[0m 10ms/step - accuracy: 0.9697 - loss: 0.4209 - val_accuracy: 0.9832 - val_loss: 0.5573\n",
            "Epoch 37/50\n",
            "\u001b[1m51/51\u001b[0m \u001b[32m━━━━━━━━━━━━━━━━━━━━\u001b[0m\u001b[37m\u001b[0m \u001b[1m1s\u001b[0m 10ms/step - accuracy: 0.9541 - loss: 0.4155 - val_accuracy: 0.9832 - val_loss: 0.5639\n",
            "Epoch 38/50\n",
            "\u001b[1m51/51\u001b[0m \u001b[32m━━━━━━━━━━━━━━━━━━━━\u001b[0m\u001b[37m\u001b[0m \u001b[1m1s\u001b[0m 10ms/step - accuracy: 0.9744 - loss: 0.4132 - val_accuracy: 0.9832 - val_loss: 0.5675\n",
            "Epoch 39/50\n",
            "\u001b[1m51/51\u001b[0m \u001b[32m━━━━━━━━━━━━━━━━━━━━\u001b[0m\u001b[37m\u001b[0m \u001b[1m1s\u001b[0m 11ms/step - accuracy: 0.9648 - loss: 0.4047 - val_accuracy: 0.9832 - val_loss: 0.5777\n",
            "Epoch 40/50\n",
            "\u001b[1m51/51\u001b[0m \u001b[32m━━━━━━━━━━━━━━━━━━━━\u001b[0m\u001b[37m\u001b[0m \u001b[1m1s\u001b[0m 10ms/step - accuracy: 0.9715 - loss: 0.3979 - val_accuracy: 0.9832 - val_loss: 0.5787\n",
            "Epoch 41/50\n",
            "\u001b[1m51/51\u001b[0m \u001b[32m━━━━━━━━━━━━━━━━━━━━\u001b[0m\u001b[37m\u001b[0m \u001b[1m1s\u001b[0m 10ms/step - accuracy: 0.9709 - loss: 0.3926 - val_accuracy: 0.9832 - val_loss: 0.5848\n",
            "Epoch 42/50\n",
            "\u001b[1m51/51\u001b[0m \u001b[32m━━━━━━━━━━━━━━━━━━━━\u001b[0m\u001b[37m\u001b[0m \u001b[1m1s\u001b[0m 11ms/step - accuracy: 0.9739 - loss: 0.3795 - val_accuracy: 0.9832 - val_loss: 0.5946\n",
            "Epoch 43/50\n",
            "\u001b[1m51/51\u001b[0m \u001b[32m━━━━━━━━━━━━━━━━━━━━\u001b[0m\u001b[37m\u001b[0m \u001b[1m1s\u001b[0m 10ms/step - accuracy: 0.9656 - loss: 0.3761 - val_accuracy: 0.9832 - val_loss: 0.5983\n",
            "Epoch 44/50\n",
            "\u001b[1m51/51\u001b[0m \u001b[32m━━━━━━━━━━━━━━━━━━━━\u001b[0m\u001b[37m\u001b[0m \u001b[1m1s\u001b[0m 11ms/step - accuracy: 0.9742 - loss: 0.3743 - val_accuracy: 0.9832 - val_loss: 0.6071\n",
            "Epoch 45/50\n",
            "\u001b[1m51/51\u001b[0m \u001b[32m━━━━━━━━━━━━━━━━━━━━\u001b[0m\u001b[37m\u001b[0m \u001b[1m1s\u001b[0m 11ms/step - accuracy: 0.9673 - loss: 0.3635 - val_accuracy: 0.9832 - val_loss: 0.6094\n",
            "Epoch 46/50\n",
            "\u001b[1m51/51\u001b[0m \u001b[32m━━━━━━━━━━━━━━━━━━━━\u001b[0m\u001b[37m\u001b[0m \u001b[1m1s\u001b[0m 11ms/step - accuracy: 0.9650 - loss: 0.3621 - val_accuracy: 0.9777 - val_loss: 0.6191\n",
            "Epoch 47/50\n",
            "\u001b[1m51/51\u001b[0m \u001b[32m━━━━━━━━━━━━━━━━━━━━\u001b[0m\u001b[37m\u001b[0m \u001b[1m1s\u001b[0m 14ms/step - accuracy: 0.9726 - loss: 0.3487 - val_accuracy: 0.9832 - val_loss: 0.6250\n",
            "Epoch 48/50\n",
            "\u001b[1m51/51\u001b[0m \u001b[32m━━━━━━━━━━━━━━━━━━━━\u001b[0m\u001b[37m\u001b[0m \u001b[1m1s\u001b[0m 20ms/step - accuracy: 0.9703 - loss: 0.3441 - val_accuracy: 0.9777 - val_loss: 0.6323\n",
            "Epoch 49/50\n",
            "\u001b[1m51/51\u001b[0m \u001b[32m━━━━━━━━━━━━━━━━━━━━\u001b[0m\u001b[37m\u001b[0m \u001b[1m1s\u001b[0m 20ms/step - accuracy: 0.9612 - loss: 0.3305 - val_accuracy: 0.9832 - val_loss: 0.6386\n",
            "Epoch 50/50\n",
            "\u001b[1m51/51\u001b[0m \u001b[32m━━━━━━━━━━━━━━━━━━━━\u001b[0m\u001b[37m\u001b[0m \u001b[1m1s\u001b[0m 18ms/step - accuracy: 0.9686 - loss: 0.3274 - val_accuracy: 0.9777 - val_loss: 0.6444\n"
          ]
        }
      ]
    },
    {
      "cell_type": "markdown",
      "source": [
        "# 4. Evaluate Performance Per Bit"
      ],
      "metadata": {
        "id": "a1REaqhEcdwB"
      }
    },
    {
      "cell_type": "code",
      "source": [
        "# 4. Evaluate Performance Per Bit\n",
        "\n",
        "# Predict\n",
        "y_pred_seq = model_lstm.predict(X_test_seq)\n",
        "y_pred_binary_seq = (y_pred_seq > 0.5).astype(int)\n",
        "\n",
        "# Per-bit accuracy\n",
        "from sklearn.metrics import accuracy_score\n",
        "bit_accuracies_lstm = [accuracy_score(y_test_seq[:, i], y_pred_binary_seq[:, i]) for i in range(35)]\n",
        "\n",
        "# Report\n",
        "for i, acc in enumerate(bit_accuracies_lstm):\n",
        "    print(f\"Bit_{i+1:2d}: Accuracy = {acc:.4f}\")\n",
        "\n",
        "print(\"\\n🌟 LSTM Average Accuracy across 35 bits:\", np.mean(bit_accuracies_lstm))\n"
      ],
      "metadata": {
        "colab": {
          "base_uri": "https://localhost:8080/"
        },
        "id": "w5hcfFllS4WH",
        "outputId": "dd3e684e-dc97-4866-9447-534a25fc45cd"
      },
      "execution_count": null,
      "outputs": [
        {
          "output_type": "stream",
          "name": "stdout",
          "text": [
            "\u001b[1m14/14\u001b[0m \u001b[32m━━━━━━━━━━━━━━━━━━━━\u001b[0m\u001b[37m\u001b[0m \u001b[1m0s\u001b[0m 18ms/step\n",
            "Bit_ 1: Accuracy = 1.0000\n",
            "Bit_ 2: Accuracy = 0.9396\n",
            "Bit_ 3: Accuracy = 0.8837\n",
            "Bit_ 4: Accuracy = 0.8747\n",
            "Bit_ 5: Accuracy = 0.7830\n",
            "Bit_ 6: Accuracy = 0.7427\n",
            "Bit_ 7: Accuracy = 0.7047\n",
            "Bit_ 8: Accuracy = 0.7517\n",
            "Bit_ 9: Accuracy = 0.7248\n",
            "Bit_10: Accuracy = 0.5928\n",
            "Bit_11: Accuracy = 0.5839\n",
            "Bit_12: Accuracy = 0.5839\n",
            "Bit_13: Accuracy = 0.4989\n",
            "Bit_14: Accuracy = 0.5257\n",
            "Bit_15: Accuracy = 0.5257\n",
            "Bit_16: Accuracy = 0.5973\n",
            "Bit_17: Accuracy = 0.5145\n",
            "Bit_18: Accuracy = 0.5302\n",
            "Bit_19: Accuracy = 0.5749\n",
            "Bit_20: Accuracy = 0.6152\n",
            "Bit_21: Accuracy = 0.7136\n",
            "Bit_22: Accuracy = 0.6823\n",
            "Bit_23: Accuracy = 0.6980\n",
            "Bit_24: Accuracy = 0.6846\n",
            "Bit_25: Accuracy = 0.7226\n",
            "Bit_26: Accuracy = 0.7539\n",
            "Bit_27: Accuracy = 0.7450\n",
            "Bit_28: Accuracy = 0.7293\n",
            "Bit_29: Accuracy = 0.7673\n",
            "Bit_30: Accuracy = 0.7472\n",
            "Bit_31: Accuracy = 0.8098\n",
            "Bit_32: Accuracy = 0.8456\n",
            "Bit_33: Accuracy = 0.8300\n",
            "Bit_34: Accuracy = 0.8121\n",
            "Bit_35: Accuracy = 0.9060\n",
            "\n",
            "🌟 LSTM Average Accuracy across 35 bits: 0.7141578779162673\n"
          ]
        }
      ]
    },
    {
      "cell_type": "markdown",
      "source": [
        "# ✅ Recommended Actions to Boost Accuracy\n"
      ],
      "metadata": {
        "id": "Zy52tt1gcgZM"
      }
    },
    {
      "cell_type": "code",
      "source": [
        "X_seq, y_seq = create_sequences(df.values, window_size=10)\n"
      ],
      "metadata": {
        "id": "I-hFyBfETM6d"
      },
      "execution_count": null,
      "outputs": []
    },
    {
      "cell_type": "markdown",
      "source": [
        "# 2. Switch to a Bidirectional LSTM"
      ],
      "metadata": {
        "id": "iGnCEaUxcjoB"
      }
    },
    {
      "cell_type": "code",
      "source": [
        "  from tensorflow.keras.layers import Bidirectional\n",
        "\n",
        "model_lstm = Sequential([\n",
        "    Bidirectional(LSTM(128, return_sequences=False), input_shape=(10, 35)),\n",
        "    Dense(64, activation='relu'),\n",
        "    Dense(35, activation='sigmoid')\n",
        "])\n"
      ],
      "metadata": {
        "colab": {
          "base_uri": "https://localhost:8080/"
        },
        "id": "zi8P9H-2Trgo",
        "outputId": "fd90e8d4-50e6-4bf1-ac02-d203e23e70ee"
      },
      "execution_count": null,
      "outputs": [
        {
          "output_type": "stream",
          "name": "stderr",
          "text": [
            "/usr/local/lib/python3.11/dist-packages/keras/src/layers/rnn/bidirectional.py:107: UserWarning: Do not pass an `input_shape`/`input_dim` argument to a layer. When using Sequential models, prefer using an `Input(shape)` object as the first layer in the model instead.\n",
            "  super().__init__(**kwargs)\n"
          ]
        }
      ]
    },
    {
      "cell_type": "markdown",
      "source": [
        "# 3. Evaluate Beyond Accuracy"
      ],
      "metadata": {
        "id": "38djIXPIcmix"
      }
    },
    {
      "cell_type": "code",
      "source": [
        "\n",
        "\n",
        "from sklearn.metrics import precision_score, recall_score, f1_score\n",
        "\n",
        "for i in range(35):\n",
        "    print(f\"Bit_{i+1:2d}: Precision = {precision_score(y_test_seq[:, i], y_pred_binary_seq[:, i]):.3f} | Recall = {recall_score(y_test_seq[:, i], y_pred_binary_seq[:, i]):.3f} | F1 = {f1_score(y_test_seq[:, i], y_pred_binary_seq[:, i]):.3f}\")\n"
      ],
      "metadata": {
        "colab": {
          "base_uri": "https://localhost:8080/"
        },
        "id": "RNLRb07yTtUG",
        "outputId": "085a95c8-a64b-493c-9bc0-484ae5c6a427"
      },
      "execution_count": null,
      "outputs": [
        {
          "output_type": "stream",
          "name": "stdout",
          "text": [
            "Bit_ 1: Precision = 1.000 | Recall = 1.000 | F1 = 1.000\n",
            "Bit_ 2: Precision = 0.944 | Recall = 0.995 | F1 = 0.969\n",
            "Bit_ 3: Precision = 0.888 | Recall = 0.995 | F1 = 0.938\n",
            "Bit_ 4: Precision = 0.881 | Recall = 0.992 | F1 = 0.933\n",
            "Bit_ 5: Precision = 0.846 | Recall = 0.899 | F1 = 0.872\n",
            "Bit_ 6: Precision = 0.801 | Recall = 0.898 | F1 = 0.846\n",
            "Bit_ 7: Precision = 0.750 | Recall = 0.907 | F1 = 0.821\n",
            "Bit_ 8: Precision = 0.827 | Recall = 0.875 | F1 = 0.850\n",
            "Bit_ 9: Precision = 0.789 | Recall = 0.862 | F1 = 0.824\n",
            "Bit_10: Precision = 0.668 | Recall = 0.719 | F1 = 0.693\n",
            "Bit_11: Precision = 0.650 | Recall = 0.674 | F1 = 0.662\n",
            "Bit_12: Precision = 0.612 | Recall = 0.741 | F1 = 0.670\n",
            "Bit_13: Precision = 0.549 | Recall = 0.598 | F1 = 0.573\n",
            "Bit_14: Precision = 0.567 | Recall = 0.714 | F1 = 0.632\n",
            "Bit_15: Precision = 0.550 | Recall = 0.601 | F1 = 0.574\n",
            "Bit_16: Precision = 0.479 | Recall = 0.529 | F1 = 0.503\n",
            "Bit_17: Precision = 0.403 | Recall = 0.469 | F1 = 0.433\n",
            "Bit_18: Precision = 0.444 | Recall = 0.352 | F1 = 0.393\n",
            "Bit_19: Precision = 0.427 | Recall = 0.308 | F1 = 0.358\n",
            "Bit_20: Precision = 0.413 | Recall = 0.244 | F1 = 0.306\n",
            "Bit_21: Precision = 0.353 | Recall = 0.159 | F1 = 0.220\n",
            "Bit_22: Precision = 0.216 | Recall = 0.097 | F1 = 0.134\n",
            "Bit_23: Precision = 0.155 | Recall = 0.095 | F1 = 0.118\n",
            "Bit_24: Precision = 0.264 | Recall = 0.121 | F1 = 0.166\n",
            "Bit_25: Precision = 0.222 | Recall = 0.101 | F1 = 0.139\n",
            "Bit_26: Precision = 0.194 | Recall = 0.080 | F1 = 0.113\n",
            "Bit_27: Precision = 0.194 | Recall = 0.076 | F1 = 0.109\n",
            "Bit_28: Precision = 0.231 | Recall = 0.129 | F1 = 0.166\n",
            "Bit_29: Precision = 0.136 | Recall = 0.083 | F1 = 0.103\n",
            "Bit_30: Precision = 0.156 | Recall = 0.145 | F1 = 0.150\n",
            "Bit_31: Precision = 0.286 | Recall = 0.079 | F1 = 0.124\n",
            "Bit_32: Precision = 0.235 | Recall = 0.067 | F1 = 0.104\n",
            "Bit_33: Precision = 0.045 | Recall = 0.018 | F1 = 0.026\n",
            "Bit_34: Precision = 0.083 | Recall = 0.014 | F1 = 0.023\n",
            "Bit_35: Precision = 0.000 | Recall = 0.000 | F1 = 0.000\n"
          ]
        }
      ]
    },
    {
      "cell_type": "markdown",
      "source": [
        "5. Check Bit Entropy or Flip Rates\n",
        "Use this to understand which bits are predictable."
      ],
      "metadata": {
        "id": "an9mNyU-cr-K"
      }
    },
    {
      "cell_type": "code",
      "source": [
        "import matplotlib.pyplot as plt\n",
        "\n",
        "flip_rates = (df != df.shift(1)).mean()  # bit-wise change rate\n",
        "plt.bar(range(1, 36), flip_rates)\n",
        "plt.title(\"Bit Flip Rates (Volatility)\")\n",
        "plt.xlabel(\"Bit Position\")\n",
        "plt.ylabel(\"Flip Rate\")\n",
        "plt.show()\n"
      ],
      "metadata": {
        "colab": {
          "base_uri": "https://localhost:8080/",
          "height": 472
        },
        "id": "saLGQnTDTxx2",
        "outputId": "e61c3e8a-64ed-4c42-9fac-0f6b5b10e1db"
      },
      "execution_count": null,
      "outputs": [
        {
          "output_type": "display_data",
          "data": {
            "text/plain": [
              "<Figure size 640x480 with 1 Axes>"
            ],
            "image/png": "[encoded data removed]"
          },
          "metadata": {}
        }
      ]
    },
    {
      "cell_type": "code",
      "source": [
        "import matplotlib.pyplot as plt\n",
        "\n",
        "# Example: confidence histogram for one bit\n",
        "bit_probs = y_pred_seq[:, 0]  # Probabilities for Bit_1\n",
        "plt.hist(bit_probs, bins=20)\n",
        "plt.title(\"Prediction Confidence for Bit_1\")\n",
        "plt.xlabel(\"Predicted Probability\")\n",
        "plt.ylabel(\"Frequency\")\n",
        "plt.show()\n"
      ],
      "metadata": {
        "colab": {
          "base_uri": "https://localhost:8080/",
          "height": 472
        },
        "id": "RPIGe2jvT2KX",
        "outputId": "95ccae4c-14b8-419c-b799-6330cacdd149"
      },
      "execution_count": null,
      "outputs": [
        {
          "output_type": "display_data",
          "data": {
            "text/plain": [
              "<Figure size 640x480 with 1 Axes>"
            ],
            "image/png": "[encoded data removed]"
          },
          "metadata": {}
        }
      ]
    },
    {
      "cell_type": "code",
      "source": [
        "import matplotlib.pyplot as plt\n",
        "\n",
        "# Example: confidence histogram for one bit\n",
        "bit_probs = y_pred_seq[:, 0]  # Probabilities for Bit_1\n",
        "plt.hist(bit_probs, bins=20)\n",
        "plt.title(\"Prediction Confidence for Bit_1\")\n",
        "plt.xlabel(\"Predicted Probability\")\n",
        "plt.ylabel(\"Frequency\")\n",
        "plt.show()\n"
      ],
      "metadata": {
        "colab": {
          "base_uri": "https://localhost:8080/",
          "height": 472
        },
        "id": "wy2OyezzaQSu",
        "outputId": "fe266380-ef95-4be8-ed34-4288a512416c"
      },
      "execution_count": null,
      "outputs": [
        {
          "output_type": "display_data",
          "data": {
            "text/plain": [
              "<Figure size 640x480 with 1 Axes>"
            ],
            "image/png": "[encoded data removed]"
          },
          "metadata": {}
        }
      ]
    },
    {
      "cell_type": "code",
      "source": [
        "avg_confidence = y_pred_seq.mean(axis=0)\n",
        "for i, conf in enumerate(avg_confidence):\n",
        "    print(f\"Bit_{i+1}: Avg Confidence = {conf:.3f}\")\n"
      ],
      "metadata": {
        "colab": {
          "base_uri": "https://localhost:8080/"
        },
        "id": "cs1iv2SlaC7u",
        "outputId": "0cb11598-c322-413c-ba9f-84c3c32b44f5"
      },
      "execution_count": null,
      "outputs": [
        {
          "output_type": "stream",
          "name": "stdout",
          "text": [
            "Bit_1: Avg Confidence = 0.998\n",
            "Bit_2: Avg Confidence = 0.962\n",
            "Bit_3: Avg Confidence = 0.918\n",
            "Bit_4: Avg Confidence = 0.898\n",
            "Bit_5: Avg Confidence = 0.810\n",
            "Bit_6: Avg Confidence = 0.778\n",
            "Bit_7: Avg Confidence = 0.790\n",
            "Bit_8: Avg Confidence = 0.763\n",
            "Bit_9: Avg Confidence = 0.762\n",
            "Bit_10: Avg Confidence = 0.634\n",
            "Bit_11: Avg Confidence = 0.612\n",
            "Bit_12: Avg Confidence = 0.619\n",
            "Bit_13: Avg Confidence = 0.586\n",
            "Bit_14: Avg Confidence = 0.614\n",
            "Bit_15: Avg Confidence = 0.556\n",
            "Bit_16: Avg Confidence = 0.438\n",
            "Bit_17: Avg Confidence = 0.463\n",
            "Bit_18: Avg Confidence = 0.402\n",
            "Bit_19: Avg Confidence = 0.333\n",
            "Bit_20: Avg Confidence = 0.297\n",
            "Bit_21: Avg Confidence = 0.245\n",
            "Bit_22: Avg Confidence = 0.243\n",
            "Bit_23: Avg Confidence = 0.236\n",
            "Bit_24: Avg Confidence = 0.217\n",
            "Bit_25: Avg Confidence = 0.228\n",
            "Bit_26: Avg Confidence = 0.186\n",
            "Bit_27: Avg Confidence = 0.196\n",
            "Bit_28: Avg Confidence = 0.225\n",
            "Bit_29: Avg Confidence = 0.213\n",
            "Bit_30: Avg Confidence = 0.214\n",
            "Bit_31: Avg Confidence = 0.196\n",
            "Bit_32: Avg Confidence = 0.102\n",
            "Bit_33: Avg Confidence = 0.153\n",
            "Bit_34: Avg Confidence = 0.122\n",
            "Bit_35: Avg Confidence = 0.087\n"
          ]
        }
      ]
    },
    {
      "cell_type": "code",
      "source": [],
      "metadata": {
        "id": "Vk2rBsE3aJQN"
      },
      "execution_count": null,
      "outputs": []
    }
  ]
}